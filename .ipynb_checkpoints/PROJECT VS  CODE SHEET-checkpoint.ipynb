{
 "cells": [
  {
   "cell_type": "markdown",
   "metadata": {},
   "source": [
    "## BUSINESS UNDERSTANDING"
   ]
  },
  {
   "cell_type": "markdown",
   "metadata": {},
   "source": [
    "##\n",
    "\n",
    "Aerodynamics Limited Company, a leader in the aerospace industry, is embarking on a strategic expansion to diversify its portfolio by entering the commercial and private aviation sectors. This move aims to leverage the company's expertise in aerodynamics and engineering to tap into new market opportunities and drive growth.\n",
    "\n",
    "As part of this expansion, the company faces the critical challenge of identifying the most suitable aircraft that pose the lowest risk for their new business venture. This involves a comprehensive analysis of various aircraft options, considering factors such as safety, operational efficiency, cost-effectiveness, and market demand.\n",
    "\n",
    "The goal of this project is to conduct thorough research and provide actionable insights that will guide the head of the new aviation division in making informed decisions about aircraft procurement. By selecting the optimal aircraft, Aerodynamics Limited Company aims to ensure a successful entry into the aviation market, minimizing risks and maximizing returns.\n"
   ]
  },
  {
   "cell_type": "markdown",
   "metadata": {},
   "source": [
    "# PROBLEM STATEMENT"
   ]
  },
  {
   "cell_type": "markdown",
   "metadata": {},
   "source": [
    " Aerodynamics Limited Company is diversifying its portfolio by entering the commercial and private aviation sectors. To successfully launch this new venture, the company needs to identify the aircraft that present the lowest risk. This project aims to conduct thorough research and provide actionable insights to assist the head of the new aviation division in making informed decisions about aircraft procurement."
   ]
  },
  {
   "cell_type": "markdown",
   "metadata": {},
   "source": [
    "## DATA UNDERSTANDING"
   ]
  },
  {
   "cell_type": "markdown",
   "metadata": {},
   "source": [
    "We will be using a database from [NTSB aviation](https://www.kaggle.com/datasets/khsamaha/aviation-accident-database-synopses) which contains information from 1962 up to 2021 about civil aviation accidents and selected incidents within the United States,its territories and possessions,and in international waters.Firstly,we will begin by understanding the data and identify the relevant columns for the research and drop the irrelavants parts.We will then proceed to analyse the data with an aim of identifying the optimal aircraft."
   ]
  },
  {
   "cell_type": "code",
   "execution_count": null,
   "metadata": {},
   "outputs": [],
   "source": [
    "%pip install openpyxl"
   ]
  },
  {
   "cell_type": "code",
   "execution_count": null,
   "metadata": {},
   "outputs": [],
   "source": [
    "import numpy as np\n",
    "import pandas as pd\n",
    "import seaborn as sb"
   ]
  },
  {
   "cell_type": "code",
   "execution_count": null,
   "metadata": {},
   "outputs": [],
   "source": [
    "#Reading data from the csv file and creating a data frame for it\n",
    "df=pd.read_csv('AviationData.csv',encoding='ISO-8859-1',low_memory=False)\n",
    "df"
   ]
  },
  {
   "cell_type": "code",
   "execution_count": null,
   "metadata": {},
   "outputs": [],
   "source": [
    "#getting an preview of the first 5 lines of the data\n",
    "df.head()"
   ]
  },
  {
   "cell_type": "code",
   "execution_count": null,
   "metadata": {},
   "outputs": [],
   "source": [
    "# checking null count in columns\n",
    "df.isnull().sum()"
   ]
  },
  {
   "cell_type": "code",
   "execution_count": null,
   "metadata": {},
   "outputs": [],
   "source": [
    "#getting an preview of the last 5 lines of the data\n",
    "df.tail()"
   ]
  },
  {
   "cell_type": "code",
   "execution_count": null,
   "metadata": {},
   "outputs": [],
   "source": [
    "#Getting descriptive statistics for the data\n",
    "df.describe()"
   ]
  },
  {
   "cell_type": "code",
   "execution_count": null,
   "metadata": {},
   "outputs": [],
   "source": [
    "#Getting a general summary of the data\n",
    "df.info()"
   ]
  },
  {
   "cell_type": "code",
   "execution_count": null,
   "metadata": {},
   "outputs": [],
   "source": [
    "#getting a random sample of the data\n",
    "df.sample()"
   ]
  },
  {
   "cell_type": "code",
   "execution_count": null,
   "metadata": {},
   "outputs": [],
   "source": [
    "#Setting a specific sample\n",
    "df.sample(random_state=67)"
   ]
  },
  {
   "cell_type": "code",
   "execution_count": null,
   "metadata": {},
   "outputs": [],
   "source": [
    "\n",
    "#Checking number of rows and columns\n",
    "df.shape"
   ]
  },
  {
   "cell_type": "markdown",
   "metadata": {},
   "source": [
    "## DATA CLEANING"
   ]
  },
  {
   "cell_type": "code",
   "execution_count": null,
   "metadata": {},
   "outputs": [],
   "source": [
    "df['Event.Date']=df['Event.Date'].str[:4].astype('int')\n",
    "df"
   ]
  },
  {
   "cell_type": "code",
   "execution_count": null,
   "metadata": {},
   "outputs": [],
   "source": [
    "#Checking the columns in our data titles\n",
    "df.columns"
   ]
  },
  {
   "cell_type": "code",
   "execution_count": null,
   "metadata": {},
   "outputs": [],
   "source": [
    "##Step 1: Irrelevant data for the research\n",
    "# Data Cleaning Action:Dropping columns that are irrelevant.\n",
    "#Explanation:This data is not required for the research.\n",
    "df.drop(['Event.Id','Investigation.Type', 'Accident.Number','Location', 'Country', 'Latitude', 'Longitude', 'Airport.Code', 'Airport.Name', 'Registration.Number',\n",
    "          'Make','Amateur.Built','Schedule', 'Purpose.of.flight', 'Total.Minor.Injuries', 'Total.Uninjured','Report.Status', 'Publication.Date'],axis=1,inplace=True)\n",
    "\n",
    "\n"
   ]
  },
  {
   "cell_type": "code",
   "execution_count": null,
   "metadata": {},
   "outputs": [],
   "source": [
    "#Checking the remaining relevant=columns\n",
    "df.columns"
   ]
  },
  {
   "cell_type": "markdown",
   "metadata": {},
   "source": [
    "The remaining columns are relevant to the research as follows:\n",
    "*Injury Severity*: Indicates the severity injuries in past events which can highlight potential risk level.\n",
    "*Aircraft Damage*: Provides information on the extent of damage to the aircraft which can be a risk indicator.\n",
    "*Aircraft Category*:Different categories may have varying risk profiles.\n",
    "*Number of Engines*:Can affect the risk in the event of engine failure,\n",
    "*Engine Type*: Different engine types have different reliability and risk factors.\n",
    "*FAR Description*:Describes the regulatory framework under which the aircraft operates which can influence risks.\n",
    "*Total Fatal Injuries*: number of fatal injuries in past events is a direct indicator of risk.\n",
    "*Total Serious Injuries*: Serious injuries indicate higher risk levels.\n",
    "*Weather Conditions*:These significantly impact the risk of flight operations,\n",
    "*Broad phase of flight*:Different phases of flight(take0ff,landing) can influence risk levels.\n",
    "*Purpose of flight*:The purpose whether commercial or private can influence the risk level.\n",
    "*Air Carrier*:The specific air carrier's safety record can be a risk factor.\n"
   ]
  },
  {
   "cell_type": "code",
   "execution_count": null,
   "metadata": {},
   "outputs": [],
   "source": [
    "df.head()"
   ]
  },
  {
   "cell_type": "code",
   "execution_count": null,
   "metadata": {},
   "outputs": [],
   "source": [
    "#Removing the trailing and leading spaces\n",
    "df.columns=df.columns.str.strip()"
   ]
  },
  {
   "cell_type": "code",
   "execution_count": null,
   "metadata": {},
   "outputs": [],
   "source": [
    "df.head()"
   ]
  },
  {
   "cell_type": "code",
   "execution_count": null,
   "metadata": {},
   "outputs": [],
   "source": [
    "#Checking the data types\n",
    "df.dtypes"
   ]
  },
  {
   "cell_type": "code",
   "execution_count": null,
   "metadata": {},
   "outputs": [],
   "source": [
    "#Checking for outliers using matplotlib\n",
    "import matplotlib.pyplot as plt\n",
    "%matplotlib inline\n",
    "df.boxplot(column=['Number.of.Engines'],grid=False)\n",
    "plt.title('No.of.Engines')\n",
    "plt.xlabel('x axis')\n",
    "plt.ylabel('y axis')\n",
    "plt.show()"
   ]
  },
  {
   "cell_type": "markdown",
   "metadata": {},
   "source": [
    "Conclusion from the plot above is that there is one outlier which we will not drop because it represents a genuine observation that may provide valuable insights.The outlier shows that the number of engines of that specific plane was 8 which is credible as the Boeing b-52 Stratofortress is equipped with 8 engines necessary for thrust and redundancy for remission. "
   ]
  },
  {
   "cell_type": "code",
   "execution_count": null,
   "metadata": {},
   "outputs": [],
   "source": [
    "#Checking for Missing values\n",
    "\n",
    "df.isnull().sum()"
   ]
  },
  {
   "cell_type": "code",
   "execution_count": null,
   "metadata": {},
   "outputs": [],
   "source": [
    "#dropping the missing values\n",
    "clean_df=df.dropna()\n",
    "clean_df[:9]"
   ]
  },
  {
   "cell_type": "code",
   "execution_count": null,
   "metadata": {},
   "outputs": [],
   "source": [
    "#Checking for duplicates\n",
    "clean_df.duplicated().any()"
   ]
  },
  {
   "cell_type": "code",
   "execution_count": null,
   "metadata": {},
   "outputs": [],
   "source": [
    "#Capitalizing the column names\n",
    "clean_df.columns=map(lambda x: str(x).upper(),clean_df.columns)\n",
    "clean_df.head()"
   ]
  },
  {
   "cell_type": "code",
   "execution_count": null,
   "metadata": {},
   "outputs": [],
   "source": [
    "clean_df.to_csv('Aviation_Analysis.csv')"
   ]
  },
  {
   "cell_type": "code",
   "execution_count": null,
   "metadata": {},
   "outputs": [],
   "source": [
    "#Converting the clean data to a csv \n",
    "df=pd.read_csv('Aviation_Analysis.csv')"
   ]
  },
  {
   "cell_type": "code",
   "execution_count": null,
   "metadata": {},
   "outputs": [],
   "source": [
    "#checking which each aircraft category and the number of fatal injuries\n",
    "Aircraft=df.groupby(['AIRCRAFT.CATEGORY'])['TOTAL.FATAL.INJURIES'].sum()\n",
    "Aircraft"
   ]
  },
  {
   "cell_type": "code",
   "execution_count": null,
   "metadata": {},
   "outputs": [],
   "source": [
    "#checking which aircraft category had the most fatal injuries\n",
    "Aircraft.sort_values(ascending=False)[0:1]"
   ]
  },
  {
   "cell_type": "code",
   "execution_count": null,
   "metadata": {},
   "outputs": [],
   "source": [
    "#Checking which engine type had the most fatal injuries\n",
    "Engine_type=df.groupby(['ENGINE.TYPE',])['TOTAL.FATAL.INJURIES'].sum()\n",
    "Engine_type"
   ]
  },
  {
   "cell_type": "markdown",
   "metadata": {},
   "source": [
    "# Univariate Analysis"
   ]
  },
  {
   "cell_type": "markdown",
   "metadata": {},
   "source": []
  },
  {
   "cell_type": "markdown",
   "metadata": {},
   "source": [
    "For the univariate analysis ,we analyse the total fatal injuries over the years."
   ]
  },
  {
   "cell_type": "code",
   "execution_count": null,
   "metadata": {},
   "outputs": [],
   "source": [
    "df.columns"
   ]
  },
  {
   "cell_type": "code",
   "execution_count": null,
   "metadata": {},
   "outputs": [],
   "source": [
    "Fatal_Injuries_over_time=df.groupby(['EVENT.DATE'])['TOTAL.FATAL.INJURIES'].sum()\n",
    "Fatal_Injuries_over_time"
   ]
  },
  {
   "cell_type": "code",
   "execution_count": null,
   "metadata": {},
   "outputs": [],
   "source": [
    "fig,ax=plt.subplots(figsize=(8,8))\n",
    "ax.plot(Fatal_Injuries_over_time.index.tolist(),Fatal_Injuries_over_time.tolist());\n",
    "ax.set_xlabel('Years')\n",
    "ax.set_ylabel(\"Total Fatal Accidents\")\n",
    "ax.set_title('Fatal Injuries over time');   "
   ]
  },
  {
   "cell_type": "markdown",
   "metadata": {},
   "source": [
    "From the plot above it is evident that accident fatalities reduced significantly over time.\n",
    "Recommendation 1:It is therefore recommendeded to proceed with the investment as it is worthwhile due to the decline of fatalities over the years."
   ]
  },
  {
   "cell_type": "markdown",
   "metadata": {},
   "source": [
    "# Bivariate Analysis"
   ]
  },
  {
   "cell_type": "code",
   "execution_count": null,
   "metadata": {},
   "outputs": [],
   "source": [
    "Model_VS_Injuries=df.groupby(['MODEL'])['TOTAL.FATAL.INJURIES'].sum().sort_values()\n",
    "Model_VS_Injuries"
   ]
  },
  {
   "cell_type": "code",
   "execution_count": null,
   "metadata": {},
   "outputs": [],
   "source": [
    "Model_VS_Injuries=df.groupby(['MODEL'])['TOTAL.FATAL.INJURIES'].sum().sort_values()\n",
    "Model_VS_Injuries"
   ]
  },
  {
   "cell_type": "code",
   "execution_count": null,
   "metadata": {},
   "outputs": [],
   "source": [
    "fig,ax=plt.subplots(figsize=(15,15))\n",
    "ax.bar(Model_VS_Injuries.index.tolist()[-15:],Model_VS_Injuries.tolist()[-15:]);\n",
    "ax.set_xlabel('MODEL NAME')\n",
    "ax.set_ylabel(\"INJURIES\")\n",
    "ax.set_title('MODEL VS  SUM OF INJURIES'); "
   ]
  },
  {
   "cell_type": "markdown",
   "metadata": {},
   "source": [
    "From the plot above those specific models are seen to have had the most fatal injuries overall.These are therefore the highlighted as the most risky aircraft models that should not be purchased at all.\n",
    "Recommendation 2:When purchasing the aircrafts,the following models are a no go zone due to the number of fatal injuries."
   ]
  },
  {
   "cell_type": "code",
   "execution_count": null,
   "metadata": {},
   "outputs": [],
   "source": [
    "plt.figure(figsize=(10, 9))\n",
    "sb.kdeplot(data=df, x='TOTAL.FATAL.INJURIES', hue='ENGINE.TYPE', fill=True, common_norm=False, palette='viridis')\n",
    "plt.title('Density Plot of Total Fatal Injuries by Engine Type')\n",
    "plt.xlabel('Total Fatal Injuries')\n",
    "plt.ylabel('Density')\n",
    "plt.legend(title='Engine Type')\n",
    "plt.grid(True)\n",
    "plt.legend(title='Engine Types')\n",
    "plt.show()\n",
    "\n"
   ]
  },
  {
   "cell_type": "markdown",
   "metadata": {},
   "source": [
    "The density plot above shows the distribution of total fatal injuries by engine types.The x axis represents the number of fatal injuries while the y axis shows the density or frequency of occurrences .Each plot represents a different engine type.One plot has a sharper and higher peak indicating  a more concentrated range of values for total fatal injuries.Recommendation 3:The company should consider aircrafts engine type when purchasing them to avoid models with high fatal injuries\n"
   ]
  },
  {
   "cell_type": "markdown",
   "metadata": {},
   "source": [
    "# Conclusion"
   ]
  },
  {
   "cell_type": "markdown",
   "metadata": {},
   "source": [
    "From the analysis its is evident that making an investment in this industry is worthwhile as the fatalities have significantly declined over the years.Identifying the model and engine type with the most fatalities leaves us with the the optimal models and engine types to choose from when purchasing the aircrafts.However it is important to note that these are not the only factors to consider when intending to purchase an optimal aircraft.There are other factors like FAR description,purpose of flight and many others to mention"
   ]
  },
  {
   "cell_type": "code",
   "execution_count": null,
   "metadata": {},
   "outputs": [],
   "source": []
  }
 ],
 "metadata": {
  "kernelspec": {
   "display_name": "Python 3 (ipykernel)",
   "language": "python",
   "name": "python3"
  },
  "language_info": {
   "codemirror_mode": {
    "name": "ipython",
    "version": 3
   },
   "file_extension": ".py",
   "mimetype": "text/x-python",
   "name": "python",
   "nbconvert_exporter": "python",
   "pygments_lexer": "ipython3",
   "version": "3.11.7"
  }
 },
 "nbformat": 4,
 "nbformat_minor": 4
}
